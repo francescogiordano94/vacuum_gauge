{
 "cells": [
  {
   "cell_type": "code",
   "execution_count": 1,
   "metadata": {},
   "outputs": [],
   "source": [
    "import pandas as pd\n",
    "import numpy as np\n",
    "import joblib\n",
    "import tensorflow as tf\n",
    "from tensorflow import keras\n",
    "\n",
    "# To plot pretty figures\n",
    "%matplotlib inline\n",
    "import matplotlib as mpl\n",
    "import matplotlib.pyplot as plt\n",
    "mpl.rc('axes', labelsize=14)\n",
    "mpl.rc('xtick', labelsize=12)\n",
    "mpl.rc('ytick', labelsize=12)"
   ]
  },
  {
   "cell_type": "code",
   "execution_count": 2,
   "metadata": {},
   "outputs": [],
   "source": [
    "df_delta = pd.read_csv('data/datasets/df_delta.csv') # cointains labels for delta VG\n",
    "df_ok = pd.read_csv('data/datasets/df_ok.csv')  #contains labels for ok VG\n",
    "\n",
    "df_raw = pd.read_csv('data/datasets/df_raw.csv') ## contains full reading of each VG\n",
    "\n",
    "df_labels = pd.concat([df_ok, df_delta], sort=False, axis=0)\n",
    "\n",
    "\n",
    "df_VG = pd.merge(df_raw, df_labels, on =['gauge_id','fillNumber'])\n",
    "df_VG = df_VG.set_index(['gauge_id','fillNumber'], drop=True)\n",
    "\n",
    "## Removing categorical values\n",
    "df_VG.y.replace(to_replace=['ok', 'delta'], value=[0, 1], inplace=True)"
   ]
  },
  {
   "cell_type": "code",
   "execution_count": 3,
   "metadata": {},
   "outputs": [],
   "source": [
    "X = np.array(df_VG.iloc[:, :-1])\n",
    "y = np.array(df_VG.iloc[:, -1])"
   ]
  },
  {
   "cell_type": "code",
   "execution_count": 36,
   "metadata": {},
   "outputs": [],
   "source": [
    "from sklearn.base import BaseEstimator, TransformerMixin\n",
    "from sklearn.preprocessing import StandardScaler, MaxAbsScaler, MinMaxScaler, RobustScaler\n",
    "\n",
    "\n",
    "class RowScaler(BaseEstimator, TransformerMixin):\n",
    "    def __init__(self, scaling_method='Standard'):\n",
    "        self.scaling_options = ['Standard', 'MinMax', 'MaxAbs', 'Robust']\n",
    "        assert (scaling_method in self.scaling_options), 'scaling_method:' + scaling_method + ' not in ' + str(self.scaling_options)\n",
    "        self.scaling_method = scaling_method\n",
    "\n",
    "        return None\n",
    "\n",
    "    def fit(self, X, y=None):\n",
    "        if self.scaling_method == 'Robust':\n",
    "            self.scaler = RobustScaler()\n",
    "        elif self.scaling_method == 'MinMax':\n",
    "            self.scaler = MinMaxScaler()\n",
    "        elif self.scaling_method == 'Standard':\n",
    "            self.scaler = StandardScaler()\n",
    "        elif self.scaling_method == 'MaxAbs':\n",
    "            self.scaler = MaxAbsScaler()\n",
    "        return self\n",
    "    \n",
    "    def transform(self, X, y=None):\n",
    "        return self.scaler.fit_transform(X.transpose()).transpose()\n",
    "\n",
    "scaler = RowScaler('Standard')\n",
    "X_norm = scaler.fit_transform(X)\n",
    "# X_norm[0].shape"
   ]
  },
  {
   "cell_type": "code",
   "execution_count": 37,
   "metadata": {},
   "outputs": [],
   "source": [
    "knn_dir = 'data/models/knn'\n",
    "knn_name = 'knn_001.pkl'\n",
    "forest_dir = 'data/models/random_forest'\n",
    "forest_name = 'forest_001.pkl'\n",
    "\n",
    "log_dir = 'data/models/logistic_classifier'\n",
    "log_name = 'logistic_001.pkl'\n",
    "\n",
    "log_path = os.path.join(log_dir, log_name)\n",
    "knn_path = os.path.join(knn_dir, knn_name)\n",
    "forest_path = os.path.join(forest_dir, forest_name)\n",
    "\n",
    "\n",
    "\n",
    "\n",
    "log = joblib.load(log_path)\n",
    "knn = joblib.load(knn_path)\n",
    "forest = joblib.load(forest_path)"
   ]
  },
  {
   "cell_type": "code",
   "execution_count": 39,
   "metadata": {},
   "outputs": [],
   "source": [
    "from sklearn.ensemble import VotingClassifier\n",
    "\n",
    "forest_clf = forest.best_estimator_\n",
    "knn_clf = knn.best_estimator_\n",
    "log_clf = log.best_estimator_\n",
    "\n",
    "voting_clf = VotingClassifier(\n",
    "    estimators=[('hard', forest_clf), ('knn', knn_clf), ('log', log_clf)],\n",
    "    voting='soft'\n",
    ")"
   ]
  },
  {
   "cell_type": "code",
   "execution_count": 32,
   "metadata": {},
   "outputs": [
    {
     "output_type": "stream",
     "name": "stdout",
     "text": "[0.92857143 0.92857143 1.         1.         0.96296296]\n"
    },
    {
     "output_type": "execute_result",
     "data": {
      "text/plain": "0.9640211640211641"
     },
     "metadata": {},
     "execution_count": 32
    }
   ],
   "source": [
    "from sklearn.model_selection import cross_val_score\n",
    "from sklearn.model_selection import StratifiedKFold\n",
    "\n",
    "strat_kfold = StratifiedKFold(n_splits=5, shuffle=True, random_state=42)\n",
    "print(cross_val_score(knn_clf,X, y, scoring='recall', cv=strat_kfold))\n",
    "np.mean(cross_val_score(knn_clf,X, y, scoring='recall', cv=strat_kfold))"
   ]
  },
  {
   "cell_type": "code",
   "execution_count": 41,
   "metadata": {},
   "outputs": [
    {
     "output_type": "stream",
     "name": "stdout",
     "text": "Pipeline 0.9640211640211641 0.031948209818942905\nPipeline 0.9640211640211641 0.031948209818942905\nPipeline 0.9203703703703704 0.043303896559524976\nVotingClassifier 0.9640211640211641 0.031948209818942905\n"
    }
   ],
   "source": [
    "strat_kfold = StratifiedKFold(n_splits=5, shuffle=True, random_state=42)\n",
    "for clf in (log_clf, knn_clf, forest_clf, voting_clf):\n",
    "    score = cross_val_score(clf,X, y, scoring='recall', cv=strat_kfold)\n",
    "    print(clf.__class__.__name__, np.mean(score), np.std(score))\n"
   ]
  },
  {
   "cell_type": "code",
   "execution_count": null,
   "metadata": {},
   "outputs": [],
   "source": []
  }
 ],
 "metadata": {
  "language_info": {
   "codemirror_mode": {
    "name": "ipython",
    "version": 3
   },
   "file_extension": ".py",
   "mimetype": "text/x-python",
   "name": "python",
   "nbconvert_exporter": "python",
   "pygments_lexer": "ipython3",
   "version": "3.6.9-final"
  },
  "orig_nbformat": 2,
  "kernelspec": {
   "name": "python3",
   "display_name": "Python 3"
  }
 },
 "nbformat": 4,
 "nbformat_minor": 2
}