{
 "cells": [
  {
   "cell_type": "code",
   "execution_count": 2,
   "metadata": {},
   "outputs": [],
   "source": [
    "%run bk_DataProcessing.ipynb"
   ]
  },
  {
   "cell_type": "code",
   "execution_count": null,
   "metadata": {},
   "outputs": [],
   "source": [
    "import csv"
   ]
  },
  {
   "cell_type": "code",
   "execution_count": null,
   "metadata": {},
   "outputs": [],
   "source": [
    "def add_to_catalogue(file, gauge_id, fillNumber, y, verbose=False):\n",
    "    \n",
    "    new_line = [gauge_id, fillNumber, y]\n",
    "    first_lines = [['probe_id', 'fillNumber', 'y'], new_line]\n",
    "\n",
    "    if os.path.isfile(file):\n",
    "        with open(file, 'a') as writeFile:\n",
    "            writer = csv.writer(writeFile)\n",
    "            writer.writerow(new_line)\n",
    "    else:\n",
    "        with open(file, 'w') as writeFile:\n",
    "            if verbose:\n",
    "                print('Catalogue does not exist, creating a new one..')\n",
    "            writer = csv.writer(writeFile)\n",
    "            writer.writerows(first_lines)\n",
    "    if verbose:\n",
    "        print('appending: %s, %s, %s' %(gauge_id, fillNumber, y))\n",
    "    writeFile.close()\n",
    "    "
   ]
  },
  {
   "cell_type": "code",
   "execution_count": null,
   "metadata": {},
   "outputs": [],
   "source": [
    "def entry_in_catalogue(file, gauge_id, fillNumber, verbose=False):\n",
    "    \n",
    "    if os.path.isfile(file):\n",
    "        with open(file, 'r') as readFile:\n",
    "                reader = csv.reader(readFile)\n",
    "                lines = list(reader)\n",
    "                if [gauge_id, str(fillNumber)] in list(map(lambda x: x[0:2], lines)):\n",
    "                    if verbose:\n",
    "                        print('entry %s, %s already in the catalogue' %(gauge_id, fillNumber))\n",
    "                    return True\n",
    "    return False"
   ]
  }
 ],
 "metadata": {
  "kernelspec": {
   "display_name": "Python 3",
   "language": "python",
   "name": "python3"
  },
  "language_info": {
   "codemirror_mode": {
    "name": "ipython",
    "version": 3
   },
   "file_extension": ".py",
   "mimetype": "text/x-python",
   "name": "python",
   "nbconvert_exporter": "python",
   "pygments_lexer": "ipython3",
   "version": "3.6.5"
  }
 },
 "nbformat": 4,
 "nbformat_minor": 2
}