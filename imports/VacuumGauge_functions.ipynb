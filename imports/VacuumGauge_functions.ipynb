{
 "cells": [
  {
   "cell_type": "markdown",
   "metadata": {},
   "source": [
    "## Scikit-Learns Estimators"
   ]
  },
  {
   "cell_type": "code",
   "execution_count": null,
   "metadata": {},
   "outputs": [],
   "source": [
    "from sklearn.base import BaseEstimator, TransformerMixin\n",
    "from sklearn.preprocessing import StandardScaler, MaxAbsScaler, MinMaxScaler, RobustScaler\n",
    "\n",
    "class Prepocess(BaseEstimator, TransformerMixin):\n",
    "    '''\n",
    "     The preprocessing of the input is divided in 2 steps:\n",
    "\n",
    "     1. Max pooling layer with kernel 15 and strides 15: reduce the dimensionality of a factor 15 keeping the max values,\n",
    "        it preserve the interesting part of the signal\n",
    "     2. Median filter with kernel 9 to get rid of evenutally present white noise\n",
    "    '''\n",
    "    def __init__(self, max_pool_size=15, median_size=9):\n",
    "        self.max_pool_size = max_pool_size\n",
    "        self.median_size = median_size\n",
    "        return None\n",
    "\n",
    "    def fit(self, X, y=None):\n",
    "        return self\n",
    "    \n",
    "    def transform(self, X, y=None):\n",
    "        from skimage.measure import block_reduce\n",
    "        from scipy.signal import medfilt\n",
    "        X_max = block_reduce(X, block_size=(1, self.max_pool_size), func=np.max)\n",
    "        X_med = np.apply_along_axis(medfilt,\n",
    "                                    axis=1,\n",
    "                                    arr= X_max,\n",
    "                                    kernel_size=self.median_size)\n",
    "\n",
    "        return X_med\n",
    "\n",
    "\n",
    "\n",
    "\n",
    "class RowScaler(BaseEstimator, TransformerMixin):\n",
    "    def __init__(self, scaling_method='Standard'):\n",
    "        self.scaling_options = ['Standard', 'MinMax', 'MaxAbs', 'Robust']\n",
    "        assert (scaling_method in self.scaling_options), 'scaling_method:' + scaling_method + ' not in ' + str(self.scaling_options)\n",
    "        \n",
    "        self.scaling_method = scaling_method\n",
    "        return None\n",
    "\n",
    "    def fit(self, X, y=None):\n",
    "        if self.scaling_method == 'Robust':\n",
    "            self.scaler = RobustScaler()\n",
    "        elif self.scaling_method == 'MinMax':\n",
    "            self.scaler = MinMaxScaler()\n",
    "        elif self.scaling_method == 'Standard':\n",
    "            self.scaler = StandardScaler()\n",
    "        elif self.scaling_method == 'MaxAbs':\n",
    "            self.scaler = MaxAbsScaler()\n",
    "        return self\n",
    "    \n",
    "    def transform(self, X, y=None):\n",
    "        return self.scaler.fit_transform(X.transpose()).transpose()"
   ]
  },
  {
   "cell_type": "markdown",
   "metadata": {},
   "source": [
    "## Results Visualization"
   ]
  },
  {
   "cell_type": "code",
   "execution_count": null,
   "metadata": {},
   "outputs": [],
   "source": [
    "def printGridSearchResults(grid_search, scoring):\n",
    "\n",
    "    print(\"Best parameters set found on development set:\")\n",
    "    print(grid_search.best_params_)\n",
    "    print()\n",
    "    print(\"Grid scores on development set:\")\n",
    "    print()\n",
    "    means = grid_search.cv_results_['mean_test_{}'.format(scoring)]\n",
    "    stds = grid_search.cv_results_['std_test_{}'.format(scoring)]\n",
    "    for mean, std, params in zip(means, stds, grid_search.cv_results_['params']):\n",
    "        print(\"{:0.3f} (+/-{:0.03f}) for {}\".format(mean, std * 2, params))"
   ]
  },
  {
   "cell_type": "code",
   "execution_count": null,
   "metadata": {},
   "outputs": [],
   "source": [
    "def plot_score (model_dir, model_version, scoring='accuracy', n_results=-1, name=''):\n",
    "    if model_version.split('.')[-1] == 'pkl':\n",
    "        model = joblib.load(model_path)\n",
    "        results = pd.DataFrame(model.cv_results_)\n",
    "    elif model_version.split('.')[-1] == 'csv':\n",
    "        results = pd.read_csv(model_path)\n",
    "\n",
    "    results = results.sort_values(by='rank_test_{}'.format(scoring))\n",
    "    results = results.reset_index(drop=True)\n",
    "\n",
    "    test_mean = results['mean_test_{}'.format(scoring)][:n_results]\n",
    "    test_std = results['std_test_{}'.format(scoring)][:n_results]\n",
    "\n",
    "    train_mean = results['mean_train_{}'.format(scoring)][:n_results]\n",
    "    train_std = results['std_train_{}'.format(scoring)][:n_results]\n",
    "\n",
    "    plt.figure(figsize=(10,6))\n",
    "    plt.errorbar(range(len(test_mean)), test_mean, yerr=test_std,\n",
    "                linestyle='None', marker='o', color='b', label='test')\n",
    "\n",
    "    plt.errorbar(range(len(train_mean)), train_mean, yerr=train_std,\n",
    "                linestyle='None', marker='o', color='r', label='train')\n",
    "\n",
    "    plt.tick_params(axis='both', which='major', labelsize=18)\n",
    "    plt.xlabel('Parameters set (index)', fontsize=18)\n",
    "    plt.ylabel(name + ' ' + scoring, fontsize=22)\n",
    "    plt.ylim(0.8,1)\n",
    "\n",
    "    plt.legend(fontsize=20, frameon=False, loc='lower left')\n",
    "    plt.show()"
   ]
  },
  {
   "cell_type": "markdown",
   "metadata": {},
   "source": [
    "## Models Saving"
   ]
  },
  {
   "cell_type": "code",
   "execution_count": null,
   "metadata": {},
   "outputs": [],
   "source": [
    "import os\n",
    "\n",
    "def save_model(model, model_dir, model_version):\n",
    "    model_path = os.path.join(model_dir, model_version)\n",
    "    if os.path.exists(model_path):\n",
    "        print(model_path + ' already exist, not overwritten.')\n",
    "    else:\n",
    "        !mkdir -p {model_dir}\n",
    "        joblib.dump(model, model_path)\n",
    "        print(model_path + ' succesfully saved.')\n",
    "\n",
    "\n",
    "def save_keras_model(model, model_dir, model_version):\n",
    "    model_path = os.path.join(model_dir, model_version)\n",
    "    if os.path.exists(model_path):\n",
    "        print(model_path + ' already exist, not overwritten.')\n",
    "    else:\n",
    "        !mkdir -p {model_dir}\n",
    "        model.save(model_path)\n",
    "        print(model_path + ' succesfully saved.')"
   ]
  },
  {
   "cell_type": "markdown",
   "metadata": {},
   "source": [
    "## TF Functions (for keras models)"
   ]
  },
  {
   "cell_type": "code",
   "execution_count": null,
   "metadata": {},
   "outputs": [],
   "source": [
    "def rowScale(X):\n",
    "    mean = tf.reshape(tf.reduce_mean(X, axis=1), [-1, 1])\n",
    "    std =  tf.reshape(tf.math.reduce_std(X, axis=1), [-1, 1])\n",
    "    return (X - mean)/std"
   ]
  },
  {
   "cell_type": "code",
   "execution_count": null,
   "metadata": {},
   "outputs": [],
   "source": [
    "# class OneCycleScheduler(keras.callbacks.Callback):\n",
    "#     def __init__(self, iterations, max_rate, start_rate=None,\n",
    "#                  last_iterations=None, last_rate=None):\n",
    "#         self.iterations = iterations\n",
    "#         self.max_rate = max_rate\n",
    "#         self.start_rate = start_rate or max_rate / 10\n",
    "#         self.last_iterations = last_iterations or iterations // 10 + 1\n",
    "#         self.half_iteration = (iterations - self.last_iterations) // 2\n",
    "#         self.last_rate = last_rate or self.start_rate / 1000\n",
    "#         self.iteration = 0\n",
    "#     def _interpolate(self, iter1, iter2, rate1, rate2):\n",
    "#         return ((rate2 - rate1) * (self.iteration - iter1)\n",
    "#                 / (iter2 - iter1) + rate1)\n",
    "#     def on_batch_begin(self, batch, logs):\n",
    "#         if self.iteration < self.half_iteration:\n",
    "#             rate = self._interpolate(0, self.half_iteration, self.start_rate, self.max_rate)\n",
    "#         elif self.iteration < 2 * self.half_iteration:\n",
    "#             rate = self._interpolate(self.half_iteration, 2 * self.half_iteration,\n",
    "#                                      self.max_rate, self.start_rate)\n",
    "#         else:\n",
    "#             rate = self._interpolate(2 * self.half_iteration, self.iterations,\n",
    "#                                      self.start_rate, self.last_rate)\n",
    "#             rate = max(rate, self.last_rate)\n",
    "#         self.iteration += 1\n",
    "#         K.set_value(self.model.optimizer.lr, rate)"
   ]
  }
 ],
 "metadata": {
  "language_info": {
   "codemirror_mode": {
    "name": "ipython",
    "version": 3
   },
   "file_extension": ".py",
   "mimetype": "text/x-python",
   "name": "python",
   "nbconvert_exporter": "python",
   "pygments_lexer": "ipython3",
   "version": 3
  },
  "orig_nbformat": 2
 },
 "nbformat": 4,
 "nbformat_minor": 2
}