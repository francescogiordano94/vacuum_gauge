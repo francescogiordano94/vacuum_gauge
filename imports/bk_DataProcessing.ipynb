{
 "cells": [
  {
   "cell_type": "markdown",
   "metadata": {},
   "source": [
    "# Data Processing\n",
    "Collection of functions for cleaning up raw pressure readings."
   ]
  },
  {
   "cell_type": "markdown",
   "metadata": {},
   "source": [
    "## Contents\n",
    "* [Data Retrieval](#retrieval)\n",
    "* [Normalization](#normalization)\n",
    "* [Interpolation](#interpolaton)\n",
    "* [Masking](#masking)\n",
    "* [Fourier Transform](#fft)\n",
    "* [Constrained Inverse Fourier Transform](#ifft)\n",
    "<hr>"
   ]
  },
  {
   "cell_type": "markdown",
   "metadata": {},
   "source": [
    "### <a id='retrieval'> Data retrieval </a>"
   ]
  },
  {
   "cell_type": "code",
   "execution_count": 6,
   "metadata": {},
   "outputs": [],
   "source": [
    "def retrieve_pressure_data(gauge_id, fillNumber, length=3000, fill=None):\n",
    "    \n",
    "    fill = db.getLHCFillData(fillNumber) if fill is None else fill\n",
    "    t1, t2 = fill['startTime'], fill['endTime'] #+ 10000\n",
    "    \n",
    "    VG = db.get(gauge_id, t1, t2) # Returns a dictionary\n",
    "    data = pd.DataFrame.from_dict(VG,dtype='float',columns=['Time Stamp','pressure'],orient='index')\n",
    "    df = pd.DataFrame()\n",
    "    pressure_readings = data[\"pressure\"][0]\n",
    "    time_readings = data[\"Time Stamp\"][0]\n",
    "    \n",
    "    if isinstance(time_readings, (list, tuple, np.ndarray)) and np.sum(time_readings) != 0:\n",
    "        t = np.linspace(time_readings[0], time_readings[-1], length)\n",
    "        pressure_readings = np.interp(t, time_readings, pressure_readings)\n",
    "        time_readings = t\n",
    "    \n",
    "    return time_readings, pressure_readings\n",
    "\n"
   ]
  },
  {
   "cell_type": "code",
   "execution_count": 9,
   "metadata": {},
   "outputs": [],
   "source": [
    "def retrieve_beam_energy(fillNumber=0, length=3000, fill = None, t1=0, t2=0):\n",
    "    if t1 == 0:\n",
    "        fill = db.getLHCFillData(fillNumber) if fill is None else fill\n",
    "        t1, t2 = fill['startTime'], fill['endTime'] #+ 10000\n",
    "    \n",
    "    energy_variable = 'LHC.BOFSU:OFSU_ENERGY'\n",
    "    beamEnergy=db.get(energy_variable, t1, t2)\n",
    "    beam_time, beam_energy = beamEnergy[energy_variable]\n",
    "    \n",
    "    if t1 == 0:\n",
    "        t = np.linspace(beam_time[0], beam_time[-1], length)\n",
    "        beam_energy = np.interp(t, beam_time, beam_energy)\n",
    "    else:\n",
    "        t = beam_time\n",
    "    \n",
    "    return t, beam_energy\n"
   ]
  },
  {
   "cell_type": "code",
   "execution_count": 3,
   "metadata": {},
   "outputs": [],
   "source": [
    "def retrieve_beam_intensity(fillNumber=0, length=3000, fill = None, beamNumber=1, t1=0, t2=0):\n",
    "    if t1 == 0:\n",
    "        fill = db.getLHCFillData(fillNumber) if fill is None else fill\n",
    "        t1, t2 = fill['startTime'], fill['endTime'] #+ 10000\n",
    "    \n",
    "    intensity_variable = 'LHC.BCTFR.A6R4.B'+str(beamNumber)+':BEAM_INTENSITY'\n",
    "    beamIntensity=db.get(intensity_variable, t1, t2)\n",
    "    intensity_time, beam_intensity = beamIntensity[intensity_variable]\n",
    "    \n",
    "    if t1 == 0:\n",
    "        t = np.linspace(intensity_time[0], intensity_time[-1], length)\n",
    "        beam_intensity = np.interp(t, intensity_time, beam_intensity)\n",
    "    else:\n",
    "        t = intensity_time    \n",
    "    \n",
    "    return t, beam_intensity"
   ]
  },
  {
   "cell_type": "code",
   "execution_count": null,
   "metadata": {},
   "outputs": [],
   "source": [
    "def retrieve_beam_bunch_length(fillNumber=0, length=3000, fill = None, beamNumber=1, t1=0, t2=0):\n",
    "    if t1 == 0:\n",
    "        fill = db.getLHCFillData(fillNumber) if fill is None else fill\n",
    "        t1, t2 = fill['startTime'], fill['endTime'] #+ 10000\n",
    "    \n",
    "    bunch_length_variable = 'LHC.BQM.B'+str(beamNumber)+':BUNCH_LENGTH_MEAN'\n",
    "    buncLength=db.get(bunch_length_variable, t1, t2)\n",
    "    bunch_length_time, bunch_length = buncLength[bunch_length_variable]\n",
    "    \n",
    "    if t1 == 0:\n",
    "        t = np.linspace(bunch_length_time[0], bunch_length_time[-1], length)\n",
    "        bunch_length = np.interp(t, bunch_length_time, bunch_length)\n",
    "    else:\n",
    "        t = bunch_length_time\n",
    "    \n",
    "    return t, bunch_length"
   ]
  },
  {
   "cell_type": "code",
   "execution_count": 2,
   "metadata": {},
   "outputs": [],
   "source": [
    "def process_data_for_PCA(probe_ID, fill, verboose=False):\n",
    "    \n",
    "    time_readings, pressure_readings = retrieve_gauge_data(probe_ID,fill)\n",
    "    \n",
    "    t = np.linspace(time_readings[0], time_readings[-1], length)\n",
    "\n",
    "    \n",
    "    return time_readings, pressure_readings"
   ]
  },
  {
   "cell_type": "markdown",
   "metadata": {},
   "source": [
    "### <a id='normalization'> Normalization </a>"
   ]
  },
  {
   "cell_type": "code",
   "execution_count": 10,
   "metadata": {},
   "outputs": [],
   "source": [
    "def normalize_y(time_readings, beam_time, pressure_readings, beam_energy, show_plot=False):\n",
    "    if  np.max(pressure_readings) - np.min(pressure_readings) != 1: #is not normalized already\n",
    "        norm_pressure_readings = ( pressure_readings - np.min(pressure_readings) ) /  ( np.max(pressure_readings) - np.min(pressure_readings))\n",
    "\n",
    "    if  np.max(beam_energy) - np.min(beam_energy) != 1: #is not normalized already\n",
    "        norm_beam_energy = ( beam_energy - np.min(beam_energy) ) /  ( np.max(beam_energy) - np.min(beam_energy))\n",
    "        \n",
    "    if show_plot:\n",
    "        f, ax = plt.subplots(1,figsize=(7,5))\n",
    "        advancedPlottingUtility(axes=[ax],axis_index=0,\n",
    "                                xs=[time_readings,beam_time],ys=[norm_pressure_readings,norm_beam_energy],\n",
    "                                time_x=True,\n",
    "                                plot_labels=(\"Vacuum Gauge\",\"Beam Energy\"),\n",
    "                                axis_labels=(\"Time Stamp\",\"Norm. Pressure\",\"Norm. Energy\"),\n",
    "                                title=\"Data Normalizaton\")\n",
    "    return norm_pressure_readings,norm_beam_energy\n"
   ]
  },
  {
   "cell_type": "markdown",
   "metadata": {},
   "source": [
    "### <a id='interpolaton'> Interpolation </a>"
   ]
  },
  {
   "cell_type": "code",
   "execution_count": 11,
   "metadata": {},
   "outputs": [],
   "source": [
    "def interpolate_readings(x, y, length = 3000, verbose=False):\n",
    "    # Vacuum Gauge\n",
    "    \n",
    "    t = np.linspace(time_readings[0], time_readings[-1], length)\n",
    "    if verbose:\n",
    "        print(\"t {}, time_readings {}, pressure_readings {}\".format(t.shape,time_readings.shape,pressure_readings.shape))\n",
    "        \n",
    "    pressure_readings = np.interp(t, time_readings, pressure_readings)\n",
    "    # Beam Intensity\n",
    "    t2 = np.linspace(beam_time[0], beam_time[-1], density_fact*len(time_readings))\n",
    "    beam_energy = np.interp(t2, beam_time, beam_energy)\n",
    "\n",
    "    time_readings = np.linspace(0,1,len(t))\n",
    "    beam_time = np.linspace(0,1,len(t2))\n",
    "    \n",
    "    return time_readings,pressure_readings,beam_time,beam_energy\n",
    "\n"
   ]
  }
 ],
 "metadata": {
  "kernelspec": {
   "display_name": "Python 3",
   "language": "python",
   "name": "python3"
  },
  "language_info": {
   "codemirror_mode": {
    "name": "ipython",
    "version": 3
   },
   "file_extension": ".py",
   "mimetype": "text/x-python",
   "name": "python",
   "nbconvert_exporter": "python",
   "pygments_lexer": "ipython3",
   "version": "3.6.5"
  }
 },
 "nbformat": 4,
 "nbformat_minor": 2
}
